{
 "cells": [
  {
   "cell_type": "markdown",
   "id": "ce31f7ac",
   "metadata": {},
   "source": [
    "# Machine Learning : Prediction of House Price\n",
    "\n",
    "\n",
    "<hr/>\n",
    "\n",
    "Submitted by <br>\n",
    "Name: **Janvi Agrawal** <br> \n",
    "<hr/>"
   ]
  },
  {
   "cell_type": "markdown",
   "id": "112df14a",
   "metadata": {},
   "source": [
    "# Project Overview\n",
    "\n",
    "## Objectives:\n",
    "\n",
    "\n",
    "Common Instructions:\n",
    "\n",
    "1. Use Pandas to Import the Dataset\n",
    "2. Do the necessary Exploratory Data Analysis\n",
    "3. Use the train_test_split method available in SCIKIT to split the dataset into Train Dataset and Test Dataset.\n",
    "4. Show the Regression Score, Intercept and other parameters etc in the Output\n",
    "5. Use visualizations and plots wherever possible\n",
    "6. Format the outputs neatly; Do Documentation, Data Set Description, Objectives, Observations, Conclusions etc as you have done in your previous lab\n",
    "\n",
    "Questions:\n",
    "1. What are your observations on the Dataset?\n",
    "2. What are the different Error Measures (Evaluation Metrics) in relation to Linear Regression? How much do you get in the above cases?\n",
    "3. Note down the errors/losses when the train-test ratio is 50:50, 60:40, 70:30, and 80:20\n",
    "4. During LinearRegression() process, what is the impact of giving TRUE/FALSE as the value for Normalize Parameter?\n",
    "\n",
    "Cases\n",
    "Try to predict the rent of the below houses -\n",
    "1. 1 BHK with 2 Baths in Portofino Street\n",
    "2. Fully Furnished 2 BHK in School Street\n",
    "3. Single Room anywhere in Lavasa\n",
    "\n",
    "\n",
    "PS: For the \"Cases\" part, you may have to create a dataset and then use the same for prediction purposes\n",
    "    \n",
    "## Problem Defination:\n",
    "\n",
    "    For above mentioned objectives, detailed analysis and predicting are being performed in this lab. And the purpose of the lab is to familiarize ourselves with LinearRegression() model in machine learning.\n",
    "    \n",
    "## Approach:\n",
    "\n",
    "    Jupyter Notebook is used for the succesful execution of the lab!\n",
    "    Approach which I followed is as follows:\n",
    "        1. Identified various requirements of the lab as per sections and material available.\n",
    "        2. Went through sections of this Lab to understand its purpose and detailed idea to satisfy the needs of the questions."
   ]
  },
  {
   "cell_type": "markdown",
   "id": "7b4f39e6",
   "metadata": {},
   "source": [
    "### 1. Use Pandas to Import the Dataset"
   ]
  },
  {
   "cell_type": "code",
   "execution_count": 1,
   "id": "c1b4777c",
   "metadata": {},
   "outputs": [],
   "source": [
    "import pandas as pd"
   ]
  },
  {
   "cell_type": "code",
   "execution_count": 2,
   "id": "3bc11802",
   "metadata": {},
   "outputs": [],
   "source": [
    "df=pd.read_csv(\"F:\\MSC-DS\\SEM-2\\Machine Learning\\LABS\\LAB 3\\HousePrices - Lab3.csv\")"
   ]
  },
  {
   "cell_type": "markdown",
   "id": "b4ae12d2",
   "metadata": {},
   "source": [
    "### 2. Do the necessary Exploratory Data Analysis"
   ]
  },
  {
   "cell_type": "code",
   "execution_count": 3,
   "id": "708aa1cb",
   "metadata": {},
   "outputs": [
    {
     "data": {
      "text/html": [
       "<div>\n",
       "<style scoped>\n",
       "    .dataframe tbody tr th:only-of-type {\n",
       "        vertical-align: middle;\n",
       "    }\n",
       "\n",
       "    .dataframe tbody tr th {\n",
       "        vertical-align: top;\n",
       "    }\n",
       "\n",
       "    .dataframe thead th {\n",
       "        text-align: right;\n",
       "    }\n",
       "</style>\n",
       "<table border=\"1\" class=\"dataframe\">\n",
       "  <thead>\n",
       "    <tr style=\"text-align: right;\">\n",
       "      <th></th>\n",
       "      <th>BuildingType</th>\n",
       "      <th>Location</th>\n",
       "      <th>Size</th>\n",
       "      <th>AreaSqFt</th>\n",
       "      <th>NoOfBath</th>\n",
       "      <th>NoOfPeople</th>\n",
       "      <th>NoOfBalcony</th>\n",
       "      <th>RentPerMonth</th>\n",
       "    </tr>\n",
       "  </thead>\n",
       "  <tbody>\n",
       "    <tr>\n",
       "      <th>0</th>\n",
       "      <td>Minimum Budget Rooms</td>\n",
       "      <td>Portofino H</td>\n",
       "      <td>1 BHK</td>\n",
       "      <td>400.0</td>\n",
       "      <td>1</td>\n",
       "      <td>1</td>\n",
       "      <td>1</td>\n",
       "      <td>1100.0</td>\n",
       "    </tr>\n",
       "    <tr>\n",
       "      <th>1</th>\n",
       "      <td>Minimum Budget Rooms</td>\n",
       "      <td>Portofino H</td>\n",
       "      <td>1 BHK</td>\n",
       "      <td>450.0</td>\n",
       "      <td>1</td>\n",
       "      <td>1</td>\n",
       "      <td>1</td>\n",
       "      <td>1100.0</td>\n",
       "    </tr>\n",
       "    <tr>\n",
       "      <th>2</th>\n",
       "      <td>Minimum Budget Rooms</td>\n",
       "      <td>School Street</td>\n",
       "      <td>1 BHK</td>\n",
       "      <td>530.0</td>\n",
       "      <td>1</td>\n",
       "      <td>1</td>\n",
       "      <td>0</td>\n",
       "      <td>1166.0</td>\n",
       "    </tr>\n",
       "    <tr>\n",
       "      <th>3</th>\n",
       "      <td>Minimum Budget Rooms</td>\n",
       "      <td>Portofino B</td>\n",
       "      <td>1 BHK</td>\n",
       "      <td>400.0</td>\n",
       "      <td>1</td>\n",
       "      <td>1</td>\n",
       "      <td>0</td>\n",
       "      <td>1400.0</td>\n",
       "    </tr>\n",
       "    <tr>\n",
       "      <th>4</th>\n",
       "      <td>Minimum Budget Rooms</td>\n",
       "      <td>School Street</td>\n",
       "      <td>2 BHK</td>\n",
       "      <td>460.0</td>\n",
       "      <td>1</td>\n",
       "      <td>1</td>\n",
       "      <td>0</td>\n",
       "      <td>1500.0</td>\n",
       "    </tr>\n",
       "    <tr>\n",
       "      <th>5</th>\n",
       "      <td>Minimum Budget Rooms</td>\n",
       "      <td>Portofino A</td>\n",
       "      <td>1 BHK</td>\n",
       "      <td>600.0</td>\n",
       "      <td>1</td>\n",
       "      <td>1</td>\n",
       "      <td>1</td>\n",
       "      <td>1500.0</td>\n",
       "    </tr>\n",
       "    <tr>\n",
       "      <th>6</th>\n",
       "      <td>Semi Furnished Single Room</td>\n",
       "      <td>School Street</td>\n",
       "      <td>1 BHK</td>\n",
       "      <td>654.0</td>\n",
       "      <td>1</td>\n",
       "      <td>1</td>\n",
       "      <td>0</td>\n",
       "      <td>1513.5</td>\n",
       "    </tr>\n",
       "  </tbody>\n",
       "</table>\n",
       "</div>"
      ],
      "text/plain": [
       "                 BuildingType       Location   Size  AreaSqFt  NoOfBath  \\\n",
       "0        Minimum Budget Rooms    Portofino H  1 BHK     400.0         1   \n",
       "1        Minimum Budget Rooms    Portofino H  1 BHK     450.0         1   \n",
       "2        Minimum Budget Rooms  School Street  1 BHK     530.0         1   \n",
       "3        Minimum Budget Rooms    Portofino B  1 BHK     400.0         1   \n",
       "4        Minimum Budget Rooms  School Street  2 BHK     460.0         1   \n",
       "5        Minimum Budget Rooms    Portofino A  1 BHK     600.0         1   \n",
       "6  Semi Furnished Single Room  School Street  1 BHK     654.0         1   \n",
       "\n",
       "   NoOfPeople  NoOfBalcony  RentPerMonth  \n",
       "0           1            1        1100.0  \n",
       "1           1            1        1100.0  \n",
       "2           1            0        1166.0  \n",
       "3           1            0        1400.0  \n",
       "4           1            0        1500.0  \n",
       "5           1            1        1500.0  \n",
       "6           1            0        1513.5  "
      ]
     },
     "execution_count": 3,
     "metadata": {},
     "output_type": "execute_result"
    }
   ],
   "source": [
    "df.head(7)"
   ]
  },
  {
   "cell_type": "code",
   "execution_count": 4,
   "id": "85db7e7a",
   "metadata": {},
   "outputs": [
    {
     "data": {
      "text/html": [
       "<div>\n",
       "<style scoped>\n",
       "    .dataframe tbody tr th:only-of-type {\n",
       "        vertical-align: middle;\n",
       "    }\n",
       "\n",
       "    .dataframe tbody tr th {\n",
       "        vertical-align: top;\n",
       "    }\n",
       "\n",
       "    .dataframe thead th {\n",
       "        text-align: right;\n",
       "    }\n",
       "</style>\n",
       "<table border=\"1\" class=\"dataframe\">\n",
       "  <thead>\n",
       "    <tr style=\"text-align: right;\">\n",
       "      <th></th>\n",
       "      <th>BuildingType</th>\n",
       "      <th>Location</th>\n",
       "      <th>Size</th>\n",
       "      <th>AreaSqFt</th>\n",
       "      <th>NoOfBath</th>\n",
       "      <th>NoOfPeople</th>\n",
       "      <th>NoOfBalcony</th>\n",
       "      <th>RentPerMonth</th>\n",
       "    </tr>\n",
       "  </thead>\n",
       "  <tbody>\n",
       "    <tr>\n",
       "      <th>993</th>\n",
       "      <td>Super Furnished Villa</td>\n",
       "      <td>Portofino F</td>\n",
       "      <td>3 BHK</td>\n",
       "      <td>4000.0</td>\n",
       "      <td>3</td>\n",
       "      <td>6</td>\n",
       "      <td>1</td>\n",
       "      <td>66000.0</td>\n",
       "    </tr>\n",
       "    <tr>\n",
       "      <th>994</th>\n",
       "      <td>Super Furnished Villa</td>\n",
       "      <td>Portofino C</td>\n",
       "      <td>3 BHK</td>\n",
       "      <td>3761.0</td>\n",
       "      <td>3</td>\n",
       "      <td>6</td>\n",
       "      <td>2</td>\n",
       "      <td>66000.0</td>\n",
       "    </tr>\n",
       "    <tr>\n",
       "      <th>995</th>\n",
       "      <td>Super Furnished Villa</td>\n",
       "      <td>Portofino D</td>\n",
       "      <td>4 BHK</td>\n",
       "      <td>4900.0</td>\n",
       "      <td>4</td>\n",
       "      <td>6</td>\n",
       "      <td>3</td>\n",
       "      <td>70000.0</td>\n",
       "    </tr>\n",
       "    <tr>\n",
       "      <th>996</th>\n",
       "      <td>Super Furnished Villa</td>\n",
       "      <td>Portofino B</td>\n",
       "      <td>4 BHK</td>\n",
       "      <td>3750.0</td>\n",
       "      <td>4</td>\n",
       "      <td>5</td>\n",
       "      <td>0</td>\n",
       "      <td>76000.0</td>\n",
       "    </tr>\n",
       "    <tr>\n",
       "      <th>997</th>\n",
       "      <td>Super Furnished Villa</td>\n",
       "      <td>School Street</td>\n",
       "      <td>4 BHK</td>\n",
       "      <td>5270.0</td>\n",
       "      <td>4</td>\n",
       "      <td>5</td>\n",
       "      <td>3</td>\n",
       "      <td>80000.0</td>\n",
       "    </tr>\n",
       "    <tr>\n",
       "      <th>998</th>\n",
       "      <td>Super Furnished Villa</td>\n",
       "      <td>Portofino B</td>\n",
       "      <td>6 BHK</td>\n",
       "      <td>5100.0</td>\n",
       "      <td>7</td>\n",
       "      <td>6</td>\n",
       "      <td>3</td>\n",
       "      <td>90000.0</td>\n",
       "    </tr>\n",
       "    <tr>\n",
       "      <th>999</th>\n",
       "      <td>Super Furnished Villa</td>\n",
       "      <td>Portofino B</td>\n",
       "      <td>7 BHK</td>\n",
       "      <td>6300.0</td>\n",
       "      <td>6</td>\n",
       "      <td>6</td>\n",
       "      <td>3</td>\n",
       "      <td>96000.0</td>\n",
       "    </tr>\n",
       "  </tbody>\n",
       "</table>\n",
       "</div>"
      ],
      "text/plain": [
       "              BuildingType       Location   Size  AreaSqFt  NoOfBath  \\\n",
       "993  Super Furnished Villa    Portofino F  3 BHK    4000.0         3   \n",
       "994  Super Furnished Villa    Portofino C  3 BHK    3761.0         3   \n",
       "995  Super Furnished Villa    Portofino D  4 BHK    4900.0         4   \n",
       "996  Super Furnished Villa    Portofino B  4 BHK    3750.0         4   \n",
       "997  Super Furnished Villa  School Street  4 BHK    5270.0         4   \n",
       "998  Super Furnished Villa    Portofino B  6 BHK    5100.0         7   \n",
       "999  Super Furnished Villa    Portofino B  7 BHK    6300.0         6   \n",
       "\n",
       "     NoOfPeople  NoOfBalcony  RentPerMonth  \n",
       "993           6            1       66000.0  \n",
       "994           6            2       66000.0  \n",
       "995           6            3       70000.0  \n",
       "996           5            0       76000.0  \n",
       "997           5            3       80000.0  \n",
       "998           6            3       90000.0  \n",
       "999           6            3       96000.0  "
      ]
     },
     "execution_count": 4,
     "metadata": {},
     "output_type": "execute_result"
    }
   ],
   "source": [
    "df.tail(7)"
   ]
  },
  {
   "cell_type": "code",
   "execution_count": 5,
   "id": "8b1e222b",
   "metadata": {},
   "outputs": [
    {
     "data": {
      "text/plain": [
       "(1000, 8)"
      ]
     },
     "execution_count": 5,
     "metadata": {},
     "output_type": "execute_result"
    }
   ],
   "source": [
    "df.shape"
   ]
  },
  {
   "cell_type": "code",
   "execution_count": 6,
   "id": "31edb962",
   "metadata": {},
   "outputs": [
    {
     "name": "stdout",
     "output_type": "stream",
     "text": [
      "<class 'pandas.core.frame.DataFrame'>\n",
      "RangeIndex: 1000 entries, 0 to 999\n",
      "Data columns (total 8 columns):\n",
      " #   Column        Non-Null Count  Dtype  \n",
      "---  ------        --------------  -----  \n",
      " 0   BuildingType  1000 non-null   object \n",
      " 1   Location      1000 non-null   object \n",
      " 2   Size          1000 non-null   object \n",
      " 3   AreaSqFt      1000 non-null   float64\n",
      " 4   NoOfBath      1000 non-null   int64  \n",
      " 5   NoOfPeople    1000 non-null   int64  \n",
      " 6   NoOfBalcony   1000 non-null   int64  \n",
      " 7   RentPerMonth  1000 non-null   float64\n",
      "dtypes: float64(2), int64(3), object(3)\n",
      "memory usage: 62.6+ KB\n"
     ]
    }
   ],
   "source": [
    "df.info()"
   ]
  },
  {
   "cell_type": "code",
   "execution_count": 7,
   "id": "42a84c67",
   "metadata": {},
   "outputs": [
    {
     "data": {
      "text/html": [
       "<div>\n",
       "<style scoped>\n",
       "    .dataframe tbody tr th:only-of-type {\n",
       "        vertical-align: middle;\n",
       "    }\n",
       "\n",
       "    .dataframe tbody tr th {\n",
       "        vertical-align: top;\n",
       "    }\n",
       "\n",
       "    .dataframe thead th {\n",
       "        text-align: right;\n",
       "    }\n",
       "</style>\n",
       "<table border=\"1\" class=\"dataframe\">\n",
       "  <thead>\n",
       "    <tr style=\"text-align: right;\">\n",
       "      <th></th>\n",
       "      <th>AreaSqFt</th>\n",
       "      <th>NoOfBath</th>\n",
       "      <th>NoOfPeople</th>\n",
       "      <th>NoOfBalcony</th>\n",
       "      <th>RentPerMonth</th>\n",
       "    </tr>\n",
       "  </thead>\n",
       "  <tbody>\n",
       "    <tr>\n",
       "      <th>count</th>\n",
       "      <td>1000.000000</td>\n",
       "      <td>1000.000000</td>\n",
       "      <td>1000.000000</td>\n",
       "      <td>1000.000000</td>\n",
       "      <td>1000.000000</td>\n",
       "    </tr>\n",
       "    <tr>\n",
       "      <th>mean</th>\n",
       "      <td>1548.270010</td>\n",
       "      <td>2.661000</td>\n",
       "      <td>2.168000</td>\n",
       "      <td>1.544000</td>\n",
       "      <td>10476.633500</td>\n",
       "    </tr>\n",
       "    <tr>\n",
       "      <th>std</th>\n",
       "      <td>1345.141175</td>\n",
       "      <td>1.247251</td>\n",
       "      <td>0.959529</td>\n",
       "      <td>0.838312</td>\n",
       "      <td>10509.508971</td>\n",
       "    </tr>\n",
       "    <tr>\n",
       "      <th>min</th>\n",
       "      <td>375.000000</td>\n",
       "      <td>1.000000</td>\n",
       "      <td>1.000000</td>\n",
       "      <td>0.000000</td>\n",
       "      <td>1100.000000</td>\n",
       "    </tr>\n",
       "    <tr>\n",
       "      <th>25%</th>\n",
       "      <td>1090.000000</td>\n",
       "      <td>2.000000</td>\n",
       "      <td>2.000000</td>\n",
       "      <td>1.000000</td>\n",
       "      <td>4890.500000</td>\n",
       "    </tr>\n",
       "    <tr>\n",
       "      <th>50%</th>\n",
       "      <td>1270.000000</td>\n",
       "      <td>2.000000</td>\n",
       "      <td>2.000000</td>\n",
       "      <td>2.000000</td>\n",
       "      <td>7000.000000</td>\n",
       "    </tr>\n",
       "    <tr>\n",
       "      <th>75%</th>\n",
       "      <td>1664.250000</td>\n",
       "      <td>3.000000</td>\n",
       "      <td>2.000000</td>\n",
       "      <td>2.000000</td>\n",
       "      <td>11925.000000</td>\n",
       "    </tr>\n",
       "    <tr>\n",
       "      <th>max</th>\n",
       "      <td>35000.000000</td>\n",
       "      <td>11.000000</td>\n",
       "      <td>6.000000</td>\n",
       "      <td>3.000000</td>\n",
       "      <td>96000.000000</td>\n",
       "    </tr>\n",
       "  </tbody>\n",
       "</table>\n",
       "</div>"
      ],
      "text/plain": [
       "           AreaSqFt     NoOfBath   NoOfPeople  NoOfBalcony  RentPerMonth\n",
       "count   1000.000000  1000.000000  1000.000000  1000.000000   1000.000000\n",
       "mean    1548.270010     2.661000     2.168000     1.544000  10476.633500\n",
       "std     1345.141175     1.247251     0.959529     0.838312  10509.508971\n",
       "min      375.000000     1.000000     1.000000     0.000000   1100.000000\n",
       "25%     1090.000000     2.000000     2.000000     1.000000   4890.500000\n",
       "50%     1270.000000     2.000000     2.000000     2.000000   7000.000000\n",
       "75%     1664.250000     3.000000     2.000000     2.000000  11925.000000\n",
       "max    35000.000000    11.000000     6.000000     3.000000  96000.000000"
      ]
     },
     "execution_count": 7,
     "metadata": {},
     "output_type": "execute_result"
    }
   ],
   "source": [
    "df.describe()"
   ]
  },
  {
   "cell_type": "code",
   "execution_count": 8,
   "id": "23983f13",
   "metadata": {},
   "outputs": [
    {
     "data": {
      "text/html": [
       "<div>\n",
       "<style scoped>\n",
       "    .dataframe tbody tr th:only-of-type {\n",
       "        vertical-align: middle;\n",
       "    }\n",
       "\n",
       "    .dataframe tbody tr th {\n",
       "        vertical-align: top;\n",
       "    }\n",
       "\n",
       "    .dataframe thead th {\n",
       "        text-align: right;\n",
       "    }\n",
       "</style>\n",
       "<table border=\"1\" class=\"dataframe\">\n",
       "  <thead>\n",
       "    <tr style=\"text-align: right;\">\n",
       "      <th></th>\n",
       "      <th>AreaSqFt</th>\n",
       "      <th>NoOfBath</th>\n",
       "      <th>NoOfPeople</th>\n",
       "      <th>NoOfBalcony</th>\n",
       "      <th>RentPerMonth</th>\n",
       "    </tr>\n",
       "  </thead>\n",
       "  <tbody>\n",
       "    <tr>\n",
       "      <th>AreaSqFt</th>\n",
       "      <td>1.000000</td>\n",
       "      <td>0.375791</td>\n",
       "      <td>0.374907</td>\n",
       "      <td>0.206123</td>\n",
       "      <td>0.473022</td>\n",
       "    </tr>\n",
       "    <tr>\n",
       "      <th>NoOfBath</th>\n",
       "      <td>0.375791</td>\n",
       "      <td>1.000000</td>\n",
       "      <td>0.480063</td>\n",
       "      <td>0.258885</td>\n",
       "      <td>0.579693</td>\n",
       "    </tr>\n",
       "    <tr>\n",
       "      <th>NoOfPeople</th>\n",
       "      <td>0.374907</td>\n",
       "      <td>0.480063</td>\n",
       "      <td>1.000000</td>\n",
       "      <td>0.184932</td>\n",
       "      <td>0.782853</td>\n",
       "    </tr>\n",
       "    <tr>\n",
       "      <th>NoOfBalcony</th>\n",
       "      <td>0.206123</td>\n",
       "      <td>0.258885</td>\n",
       "      <td>0.184932</td>\n",
       "      <td>1.000000</td>\n",
       "      <td>0.193619</td>\n",
       "    </tr>\n",
       "    <tr>\n",
       "      <th>RentPerMonth</th>\n",
       "      <td>0.473022</td>\n",
       "      <td>0.579693</td>\n",
       "      <td>0.782853</td>\n",
       "      <td>0.193619</td>\n",
       "      <td>1.000000</td>\n",
       "    </tr>\n",
       "  </tbody>\n",
       "</table>\n",
       "</div>"
      ],
      "text/plain": [
       "              AreaSqFt  NoOfBath  NoOfPeople  NoOfBalcony  RentPerMonth\n",
       "AreaSqFt      1.000000  0.375791    0.374907     0.206123      0.473022\n",
       "NoOfBath      0.375791  1.000000    0.480063     0.258885      0.579693\n",
       "NoOfPeople    0.374907  0.480063    1.000000     0.184932      0.782853\n",
       "NoOfBalcony   0.206123  0.258885    0.184932     1.000000      0.193619\n",
       "RentPerMonth  0.473022  0.579693    0.782853     0.193619      1.000000"
      ]
     },
     "execution_count": 8,
     "metadata": {},
     "output_type": "execute_result"
    }
   ],
   "source": [
    "# for computing correlations\n",
    "df.corr()"
   ]
  },
  {
   "cell_type": "code",
   "execution_count": 9,
   "id": "acc6196f",
   "metadata": {},
   "outputs": [
    {
     "data": {
      "text/plain": [
       "Semi Furnished Single Room     274\n",
       "Semi Furnished Flat            246\n",
       "Fully Furnished Single Room    153\n",
       "Minimum Budget Rooms           146\n",
       "Semi Furnished Villa            63\n",
       "Fully Furnished Flat            41\n",
       "Super Furnished Single Room     25\n",
       "Super Furnished Villa           21\n",
       "Fully Furnished Villa           19\n",
       "Super Furnished Flat            12\n",
       "Name: BuildingType, dtype: int64"
      ]
     },
     "metadata": {},
     "output_type": "display_data"
    },
    {
     "data": {
      "text/plain": [
       "Clubview Road    213\n",
       "Portofino B      173\n",
       "School Street    138\n",
       "Portofino D      105\n",
       "Portofino C      103\n",
       "Portofino A       95\n",
       "Portofino H       62\n",
       "Portofino E       54\n",
       "Portofino G       26\n",
       "Portofino F       22\n",
       "Name: Location, dtype: int64"
      ]
     },
     "metadata": {},
     "output_type": "display_data"
    },
    {
     "data": {
      "text/plain": [
       "2 BHK    429\n",
       "3 BHK    353\n",
       "4 BHK    103\n",
       "1 BHK     51\n",
       "5 BHK     22\n",
       "6 BHK     21\n",
       "8 BHK      8\n",
       "7 BHK      7\n",
       "9 BHK      4\n",
       "1 RK       2\n",
       "Name: Size, dtype: int64"
      ]
     },
     "metadata": {},
     "output_type": "display_data"
    },
    {
     "data": {
      "text/plain": [
       "1200.0    63\n",
       "1500.0    20\n",
       "1000.0    17\n",
       "1100.0    15\n",
       "600.0     14\n",
       "1600.0    13\n",
       "950.0     10\n",
       "1075.0    10\n",
       "1800.0    10\n",
       "1150.0     9\n",
       "Name: AreaSqFt, dtype: int64"
      ]
     },
     "metadata": {},
     "output_type": "display_data"
    },
    {
     "data": {
      "text/plain": [
       "2     514\n",
       "3     252\n",
       "4      95\n",
       "1      68\n",
       "5      35\n",
       "6      16\n",
       "7      10\n",
       "9       5\n",
       "8       4\n",
       "11      1\n",
       "Name: NoOfBath, dtype: int64"
      ]
     },
     "metadata": {},
     "output_type": "display_data"
    },
    {
     "data": {
      "text/plain": [
       "2    574\n",
       "1    192\n",
       "3    165\n",
       "4     27\n",
       "5     27\n",
       "6     15\n",
       "Name: NoOfPeople, dtype: int64"
      ]
     },
     "metadata": {},
     "output_type": "display_data"
    },
    {
     "data": {
      "text/plain": [
       "2    393\n",
       "1    380\n",
       "3    126\n",
       "0    101\n",
       "Name: NoOfBalcony, dtype: int64"
      ]
     },
     "metadata": {},
     "output_type": "display_data"
    },
    {
     "data": {
      "text/plain": [
       "5500.0     21\n",
       "4500.0     20\n",
       "6500.0     20\n",
       "9500.0     19\n",
       "6000.0     18\n",
       "15000.0    18\n",
       "4000.0     18\n",
       "7500.0     16\n",
       "5000.0     16\n",
       "7000.0     16\n",
       "Name: RentPerMonth, dtype: int64"
      ]
     },
     "metadata": {},
     "output_type": "display_data"
    }
   ],
   "source": [
    "for col in df.columns:\n",
    "    display(df[col].value_counts().head(10))"
   ]
  },
  {
   "cell_type": "code",
   "execution_count": 10,
   "id": "c4de534a",
   "metadata": {},
   "outputs": [
    {
     "data": {
      "text/plain": [
       "BuildingType    0\n",
       "Location        0\n",
       "Size            0\n",
       "AreaSqFt        0\n",
       "NoOfBath        0\n",
       "NoOfPeople      0\n",
       "NoOfBalcony     0\n",
       "RentPerMonth    0\n",
       "dtype: int64"
      ]
     },
     "execution_count": 10,
     "metadata": {},
     "output_type": "execute_result"
    }
   ],
   "source": [
    "df.isnull().sum()"
   ]
  },
  {
   "cell_type": "markdown",
   "id": "5618da4b",
   "metadata": {},
   "source": [
    "### Visualization"
   ]
  },
  {
   "cell_type": "markdown",
   "id": "60012f5c",
   "metadata": {},
   "source": [
    "### Box Plot"
   ]
  },
  {
   "cell_type": "code",
   "execution_count": 11,
   "id": "3eb3c563",
   "metadata": {},
   "outputs": [
    {
     "data": {
      "text/plain": [
       "<AxesSubplot:xlabel='Size', ylabel='NoOfPeople'>"
      ]
     },
     "execution_count": 11,
     "metadata": {},
     "output_type": "execute_result"
    },
    {
     "data": {
      "image/png": "[encoded data removed]",
      "text/plain": [
       "<Figure size 432x288 with 1 Axes>"
      ]
     },
     "metadata": {
      "needs_background": "light"
     },
     "output_type": "display_data"
    }
   ],
   "source": [
    "import seaborn as sns\n",
    "\n",
    "sns.boxplot(x = 'Size', y = 'NoOfPeople', data = df)"
   ]
  },
  {
   "cell_type": "markdown",
   "id": "d6891ee1",
   "metadata": {},
   "source": [
    "From the above graph, we can visualize that:\n",
    "1. Bottom black horizontal line of all box plot is minimum value\n",
    "2. First black horizontal line of rectangle shape of all box plot is First quartile or 25%\n",
    "3. Second black horizontal line of rectangle shape of all box plot is Second quartile or 50% or median.\n",
    "4. Third black horizontal line of rectangle shape of all box plot is third quartile or 75%\n",
    "5. Top black horizontal line of rectangle shape all blue box plot is maximum value.\n",
    "6. Small diamond shape of all box plot is outlier data or erroneous data."
   ]
  },
  {
   "cell_type": "markdown",
   "id": "5babfe05",
   "metadata": {},
   "source": [
    "### Bar Chart"
   ]
  },
  {
   "cell_type": "code",
   "execution_count": 12,
   "id": "6bd91d6a",
   "metadata": {},
   "outputs": [
    {
     "data": {
      "image/png": "[encoded data removed]",
      "text/plain": [
       "<Figure size 432x288 with 1 Axes>"
      ]
     },
     "metadata": {
      "needs_background": "light"
     },
     "output_type": "display_data"
    }
   ],
   "source": [
    "import matplotlib.pyplot as plt\n",
    "\n",
    "# plotting a bar chart\n",
    "plt.bar(df.Size,df.RentPerMonth,width = 0.8, color =\"Brown\")\n",
    "\n",
    "# naming the x-axis\n",
    "plt.xlabel('Size of Building')\n",
    "# naming the y-axis\n",
    "plt.ylabel('Rent Per Month')\n",
    "plt.title(\"Bar Chart\")\n",
    "\n",
    "# function to show the plot\n",
    "plt.show()\n"
   ]
  },
  {
   "cell_type": "markdown",
   "id": "46cfa097",
   "metadata": {},
   "source": [
    "From the above graph, we can observe that:\n",
    "1. 7BHK Building have Highest Rent per Month and\n",
    "2. 1RK Building have Lowest Rent per Month."
   ]
  },
  {
   "cell_type": "markdown",
   "id": "ab60a1cc",
   "metadata": {},
   "source": [
    "### Count Plot"
   ]
  },
  {
   "cell_type": "code",
   "execution_count": 13,
   "id": "ce2e754e",
   "metadata": {},
   "outputs": [
    {
     "data": {
      "text/plain": [
       "[Text(0, 0, 'Portofino H'),\n",
       " Text(1, 0, 'School Street'),\n",
       " Text(2, 0, 'Portofino B'),\n",
       " Text(3, 0, 'Portofino A'),\n",
       " Text(4, 0, 'Clubview Road'),\n",
       " Text(5, 0, 'Portofino C'),\n",
       " Text(6, 0, 'Portofino D'),\n",
       " Text(7, 0, 'Starter Homes'),\n",
       " Text(8, 0, 'Portofino G'),\n",
       " Text(9, 0, 'Portofino E'),\n",
       " Text(10, 0, 'Portofino F')]"
      ]
     },
     "execution_count": 13,
     "metadata": {},
     "output_type": "execute_result"
    },
    {
     "data": {
      "image/png": "[encoded data removed]",
      "text/plain": [
       "<Figure size 720x720 with 1 Axes>"
      ]
     },
     "metadata": {
      "needs_background": "light"
     },
     "output_type": "display_data"
    }
   ],
   "source": [
    "plt.figure(figsize=(10,10))\n",
    "chart=sns.countplot(data=df,x='Location',palette='Set1')\n",
    "chart.set_xticklabels(chart.get_xticklabels(), rotation=45)"
   ]
  },
  {
   "cell_type": "markdown",
   "id": "0949fb93",
   "metadata": {},
   "source": [
    "From the above hist, we can say that:\n",
    "1. Clubview Road has the maximum count of Buildings and\n",
    "2. Starter Homes has the minimum count of Buildings"
   ]
  },
  {
   "cell_type": "markdown",
   "id": "6455bea3",
   "metadata": {},
   "source": [
    "### Scatter Plot"
   ]
  },
  {
   "cell_type": "code",
   "execution_count": 14,
   "id": "0ae3421e",
   "metadata": {},
   "outputs": [
    {
     "name": "stderr",
     "output_type": "stream",
     "text": [
      "C:\\Users\\lenovo\\anaconda3\\lib\\site-packages\\seaborn\\_decorators.py:36: FutureWarning: Pass the following variables as keyword args: x, y. From version 0.12, the only valid positional argument will be `data`, and passing other arguments without an explicit keyword will result in an error or misinterpretation.\n",
      "  warnings.warn(\n"
     ]
    },
    {
     "data": {
      "text/plain": [
       "<AxesSubplot:title={'center':'Comparison between various BuildingType based on AreaSqFt and RentPerMonth'}, xlabel='AreaSqFt', ylabel='RentPerMonth'>"
      ]
     },
     "execution_count": 14,
     "metadata": {},
     "output_type": "execute_result"
    },
    {
     "data": {
      "image/png": "[encoded data removed]",
      "text/plain": [
       "<Figure size 576x576 with 1 Axes>"
      ]
     },
     "metadata": {
      "needs_background": "light"
     },
     "output_type": "display_data"
    }
   ],
   "source": [
    "import matplotlib.pyplot as plt\n",
    "\n",
    "plt.figure(figsize=(8,8))\n",
    "plt.title(\"Comparison between various BuildingType based on AreaSqFt and RentPerMonth\")\n",
    "sns.scatterplot(df['AreaSqFt'],df['RentPerMonth'],hue =df['BuildingType'],s=80)"
   ]
  },
  {
   "cell_type": "markdown",
   "id": "5a306611",
   "metadata": {},
   "source": [
    "From the above scatter plot, we can observe that:\n",
    "1. There is a positive relationship between AreaSqFt and RentPerMonth, i:e, as Area increases, Rent also increases.\n",
    "2. We can also see that there are outliers in the data set.\n",
    "3. Semi Furnished Villa are the Buildings which have maximum of Rent."
   ]
  },
  {
   "cell_type": "markdown",
   "id": "ac63b462",
   "metadata": {},
   "source": [
    "### Heat Map"
   ]
  },
  {
   "cell_type": "code",
   "execution_count": 15,
   "id": "37a52d48",
   "metadata": {},
   "outputs": [
    {
     "data": {
      "text/plain": [
       "[]"
      ]
     },
     "execution_count": 15,
     "metadata": {},
     "output_type": "execute_result"
    },
    {
     "data": {
      "image/png": "[encoded data removed]",
      "text/plain": [
       "<Figure size 576x576 with 2 Axes>"
      ]
     },
     "metadata": {
      "needs_background": "light"
     },
     "output_type": "display_data"
    }
   ],
   "source": [
    "plt.figure(figsize=(8,8))\n",
    "sns.heatmap(df.corr(),annot=True)\n",
    "plt.plot()"
   ]
  },
  {
   "cell_type": "markdown",
   "id": "dcf30aaf",
   "metadata": {},
   "source": [
    "1. Each square shows the correlation between the variables on each axis.\n",
    "2. Correlation ranges from -1 to +1.\n",
    "3. Values closer to zero means there is no linear trend between the two variables.\n",
    "4. The close to 1 the correlation is the more positively correlated they are; that is as one increases so does the other and the closer to 1 the stronger this relationship is.\n",
    "5. A correlation closer to -1 is similar, but instead of both increasing one variable will decrease as the other increases.\n",
    "6. The diagonals are all 1/dark green because those squares are correlating each variable to itself (so it's a perfect correlation).\n",
    "7. For the rest the larger the number and darker the color the higher the correlation between the two variables.\n",
    "\n",
    "From the above map, we can say that there a no corelation or a little relation between them."
   ]
  },
  {
   "cell_type": "markdown",
   "id": "65e7eb04",
   "metadata": {},
   "source": [
    "### Pair Plot"
   ]
  },
  {
   "cell_type": "code",
   "execution_count": 16,
   "id": "7fdb4172",
   "metadata": {},
   "outputs": [
    {
     "data": {
      "text/plain": [
       "<seaborn.axisgrid.PairGrid at 0x2dbfab36be0>"
      ]
     },
     "execution_count": 16,
     "metadata": {},
     "output_type": "execute_result"
    },
    {
     "data": {
      "image/png": "[encoded data removed]",
      "text/plain": [
       "<Figure size 1082.38x900 with 30 Axes>"
      ]
     },
     "metadata": {
      "needs_background": "light"
     },
     "output_type": "display_data"
    }
   ],
   "source": [
    "sns.pairplot(df, hue = 'BuildingType', palette = 'magma')"
   ]
  },
  {
   "cell_type": "markdown",
   "id": "3fdb5e92",
   "metadata": {},
   "source": [
    "From the picture above, we can observe the variations in each plot. The plots are in matrix format where the row name represents x axis and column name represents the y axis. The main-diagonal subplots are the univariate histograms (distributions) for each attribute.\n",
    "\n",
    "We can say that, AreaSqFt and RentPerMonth have the positive relationship.\n",
    "\n",
    "We can also say that, there are outliers in the dataset."
   ]
  },
  {
   "cell_type": "markdown",
   "id": "76e483b8",
   "metadata": {},
   "source": [
    "### 3. Use the train_test_split method available in SCIKIT to split the dataset into Train Dataset and Test Dataset."
   ]
  },
  {
   "cell_type": "code",
   "execution_count": 17,
   "id": "3417d223",
   "metadata": {},
   "outputs": [],
   "source": [
    "from sklearn.model_selection import train_test_split"
   ]
  },
  {
   "cell_type": "code",
   "execution_count": 18,
   "id": "71a4f35d",
   "metadata": {},
   "outputs": [],
   "source": [
    "# Import label encoder\n",
    "from sklearn import preprocessing\n",
    "\n",
    "# label_encoder object knows how to understand word labels.\n",
    "label_encoder = preprocessing.LabelEncoder()\n",
    "\n",
    "# Encode labels in column 'species'.\n",
    "df['BuildingType']= label_encoder.fit_transform(df['BuildingType'])\n",
    "df['Location']= label_encoder.fit_transform(df['Location'])\n",
    "df['Size']= label_encoder.fit_transform(df['Size'])\n",
    "\n",
    "\n",
    "X=df.drop(\"RentPerMonth\",axis=1)\n",
    "y=df.RentPerMonth"
   ]
  },
  {
   "cell_type": "markdown",
   "id": "13e855e6",
   "metadata": {},
   "source": [
    "### 4. Show the Regression Score, Intercept and other parameters etc in the Output"
   ]
  },
  {
   "cell_type": "code",
   "execution_count": 19,
   "id": "d2f6b754",
   "metadata": {},
   "outputs": [
    {
     "name": "stdout",
     "output_type": "stream",
     "text": [
      "The maximum score got is in ratio  60 : 40  with the accuracy  0.7001911289467464\n",
      "Intercept:  -11259.890688966794\n",
      "Slope:  [ 4.07712088e+02 -1.00145165e+02 -7.16342821e+02  7.25981527e-01\n",
      "  2.77199376e+03  6.19306314e+03  2.62804770e+02]\n"
     ]
    }
   ],
   "source": [
    "from sklearn.linear_model import LinearRegression\n",
    "from sklearn.metrics import r2_score\n",
    "\n",
    "r2_list=[]\n",
    "split_ratio=[]\n",
    "intercept=[]\n",
    "slope=[]\n",
    "split_data=[]\n",
    "y_list=[]\n",
    "for i in range(50,81,10):\n",
    "    a,b,c,d= train_test_split(X, y, train_size=i/100,random_state=0)\n",
    "    split_data.append((a,b,c,d))\n",
    "    model=LinearRegression().fit(a,c)\n",
    "    y_pred=model.predict(b)\n",
    "    y_list.append(y_pred)\n",
    "    r2_list.append(r2_score(d,y_pred))\n",
    "    intercept.append(model.intercept_)\n",
    "    slope.append(model.coef_)\n",
    "    split_ratio.append(f\"{i} : {100-i}\")\n",
    "pos=r2_list.index(max(r2_list))\n",
    "print(\"The maximum score got is in ratio \",split_ratio[pos],\" with the accuracy \",max(r2_list))\n",
    "print(\"Intercept: \",intercept[pos])\n",
    "print(\"Slope: \",slope[pos])\n",
    "X_train,X_test,y_train,y_test=split_data[pos]\n",
    "y_pred=y_list[pos]"
   ]
  },
  {
   "cell_type": "code",
   "execution_count": 20,
   "id": "d54f7552",
   "metadata": {},
   "outputs": [
    {
     "data": {
      "text/html": [
       "<div>\n",
       "<style scoped>\n",
       "    .dataframe tbody tr th:only-of-type {\n",
       "        vertical-align: middle;\n",
       "    }\n",
       "\n",
       "    .dataframe tbody tr th {\n",
       "        vertical-align: top;\n",
       "    }\n",
       "\n",
       "    .dataframe thead th {\n",
       "        text-align: right;\n",
       "    }\n",
       "</style>\n",
       "<table border=\"1\" class=\"dataframe\">\n",
       "  <thead>\n",
       "    <tr style=\"text-align: right;\">\n",
       "      <th></th>\n",
       "      <th>BuildingType</th>\n",
       "      <th>Location</th>\n",
       "      <th>Size</th>\n",
       "      <th>AreaSqFt</th>\n",
       "      <th>NoOfBath</th>\n",
       "      <th>NoOfPeople</th>\n",
       "      <th>NoOfBalcony</th>\n",
       "    </tr>\n",
       "  </thead>\n",
       "  <tbody>\n",
       "    <tr>\n",
       "      <th>671</th>\n",
       "      <td>4</td>\n",
       "      <td>8</td>\n",
       "      <td>3</td>\n",
       "      <td>1740.0</td>\n",
       "      <td>2</td>\n",
       "      <td>2</td>\n",
       "      <td>0</td>\n",
       "    </tr>\n",
       "    <tr>\n",
       "      <th>109</th>\n",
       "      <td>5</td>\n",
       "      <td>1</td>\n",
       "      <td>2</td>\n",
       "      <td>750.0</td>\n",
       "      <td>2</td>\n",
       "      <td>1</td>\n",
       "      <td>1</td>\n",
       "    </tr>\n",
       "    <tr>\n",
       "      <th>661</th>\n",
       "      <td>1</td>\n",
       "      <td>3</td>\n",
       "      <td>2</td>\n",
       "      <td>1278.0</td>\n",
       "      <td>2</td>\n",
       "      <td>2</td>\n",
       "      <td>2</td>\n",
       "    </tr>\n",
       "    <tr>\n",
       "      <th>379</th>\n",
       "      <td>5</td>\n",
       "      <td>8</td>\n",
       "      <td>2</td>\n",
       "      <td>1460.0</td>\n",
       "      <td>2</td>\n",
       "      <td>2</td>\n",
       "      <td>1</td>\n",
       "    </tr>\n",
       "    <tr>\n",
       "      <th>625</th>\n",
       "      <td>4</td>\n",
       "      <td>2</td>\n",
       "      <td>2</td>\n",
       "      <td>1308.0</td>\n",
       "      <td>2</td>\n",
       "      <td>3</td>\n",
       "      <td>2</td>\n",
       "    </tr>\n",
       "    <tr>\n",
       "      <th>...</th>\n",
       "      <td>...</td>\n",
       "      <td>...</td>\n",
       "      <td>...</td>\n",
       "      <td>...</td>\n",
       "      <td>...</td>\n",
       "      <td>...</td>\n",
       "      <td>...</td>\n",
       "    </tr>\n",
       "    <tr>\n",
       "      <th>835</th>\n",
       "      <td>6</td>\n",
       "      <td>0</td>\n",
       "      <td>3</td>\n",
       "      <td>1850.0</td>\n",
       "      <td>3</td>\n",
       "      <td>2</td>\n",
       "      <td>3</td>\n",
       "    </tr>\n",
       "    <tr>\n",
       "      <th>192</th>\n",
       "      <td>3</td>\n",
       "      <td>9</td>\n",
       "      <td>3</td>\n",
       "      <td>1075.0</td>\n",
       "      <td>2</td>\n",
       "      <td>1</td>\n",
       "      <td>1</td>\n",
       "    </tr>\n",
       "    <tr>\n",
       "      <th>629</th>\n",
       "      <td>1</td>\n",
       "      <td>4</td>\n",
       "      <td>4</td>\n",
       "      <td>1200.0</td>\n",
       "      <td>4</td>\n",
       "      <td>3</td>\n",
       "      <td>0</td>\n",
       "    </tr>\n",
       "    <tr>\n",
       "      <th>559</th>\n",
       "      <td>4</td>\n",
       "      <td>0</td>\n",
       "      <td>3</td>\n",
       "      <td>1650.0</td>\n",
       "      <td>3</td>\n",
       "      <td>2</td>\n",
       "      <td>2</td>\n",
       "    </tr>\n",
       "    <tr>\n",
       "      <th>684</th>\n",
       "      <td>4</td>\n",
       "      <td>0</td>\n",
       "      <td>4</td>\n",
       "      <td>2225.0</td>\n",
       "      <td>4</td>\n",
       "      <td>2</td>\n",
       "      <td>0</td>\n",
       "    </tr>\n",
       "  </tbody>\n",
       "</table>\n",
       "<p>600 rows × 7 columns</p>\n",
       "</div>"
      ],
      "text/plain": [
       "     BuildingType  Location  Size  AreaSqFt  NoOfBath  NoOfPeople  NoOfBalcony\n",
       "671             4         8     3    1740.0         2           2            0\n",
       "109             5         1     2     750.0         2           1            1\n",
       "661             1         3     2    1278.0         2           2            2\n",
       "379             5         8     2    1460.0         2           2            1\n",
       "625             4         2     2    1308.0         2           3            2\n",
       "..            ...       ...   ...       ...       ...         ...          ...\n",
       "835             6         0     3    1850.0         3           2            3\n",
       "192             3         9     3    1075.0         2           1            1\n",
       "629             1         4     4    1200.0         4           3            0\n",
       "559             4         0     3    1650.0         3           2            2\n",
       "684             4         0     4    2225.0         4           2            0\n",
       "\n",
       "[600 rows x 7 columns]"
      ]
     },
     "execution_count": 20,
     "metadata": {},
     "output_type": "execute_result"
    }
   ],
   "source": [
    "X_train"
   ]
  },
  {
   "cell_type": "code",
   "execution_count": 21,
   "id": "9110cbe5",
   "metadata": {},
   "outputs": [
    {
     "data": {
      "text/html": [
       "<div>\n",
       "<style scoped>\n",
       "    .dataframe tbody tr th:only-of-type {\n",
       "        vertical-align: middle;\n",
       "    }\n",
       "\n",
       "    .dataframe tbody tr th {\n",
       "        vertical-align: top;\n",
       "    }\n",
       "\n",
       "    .dataframe thead th {\n",
       "        text-align: right;\n",
       "    }\n",
       "</style>\n",
       "<table border=\"1\" class=\"dataframe\">\n",
       "  <thead>\n",
       "    <tr style=\"text-align: right;\">\n",
       "      <th></th>\n",
       "      <th>BuildingType</th>\n",
       "      <th>Location</th>\n",
       "      <th>Size</th>\n",
       "      <th>AreaSqFt</th>\n",
       "      <th>NoOfBath</th>\n",
       "      <th>NoOfPeople</th>\n",
       "      <th>NoOfBalcony</th>\n",
       "    </tr>\n",
       "  </thead>\n",
       "  <tbody>\n",
       "    <tr>\n",
       "      <th>993</th>\n",
       "      <td>9</td>\n",
       "      <td>6</td>\n",
       "      <td>3</td>\n",
       "      <td>4000.0</td>\n",
       "      <td>3</td>\n",
       "      <td>6</td>\n",
       "      <td>1</td>\n",
       "    </tr>\n",
       "    <tr>\n",
       "      <th>859</th>\n",
       "      <td>4</td>\n",
       "      <td>8</td>\n",
       "      <td>4</td>\n",
       "      <td>1200.0</td>\n",
       "      <td>4</td>\n",
       "      <td>3</td>\n",
       "      <td>3</td>\n",
       "    </tr>\n",
       "    <tr>\n",
       "      <th>298</th>\n",
       "      <td>5</td>\n",
       "      <td>2</td>\n",
       "      <td>2</td>\n",
       "      <td>1150.0</td>\n",
       "      <td>2</td>\n",
       "      <td>2</td>\n",
       "      <td>3</td>\n",
       "    </tr>\n",
       "    <tr>\n",
       "      <th>553</th>\n",
       "      <td>4</td>\n",
       "      <td>0</td>\n",
       "      <td>3</td>\n",
       "      <td>1400.0</td>\n",
       "      <td>3</td>\n",
       "      <td>2</td>\n",
       "      <td>0</td>\n",
       "    </tr>\n",
       "    <tr>\n",
       "      <th>672</th>\n",
       "      <td>1</td>\n",
       "      <td>3</td>\n",
       "      <td>4</td>\n",
       "      <td>1200.0</td>\n",
       "      <td>3</td>\n",
       "      <td>2</td>\n",
       "      <td>1</td>\n",
       "    </tr>\n",
       "    <tr>\n",
       "      <th>...</th>\n",
       "      <td>...</td>\n",
       "      <td>...</td>\n",
       "      <td>...</td>\n",
       "      <td>...</td>\n",
       "      <td>...</td>\n",
       "      <td>...</td>\n",
       "      <td>...</td>\n",
       "    </tr>\n",
       "    <tr>\n",
       "      <th>81</th>\n",
       "      <td>5</td>\n",
       "      <td>0</td>\n",
       "      <td>2</td>\n",
       "      <td>861.0</td>\n",
       "      <td>2</td>\n",
       "      <td>1</td>\n",
       "      <td>1</td>\n",
       "    </tr>\n",
       "    <tr>\n",
       "      <th>159</th>\n",
       "      <td>5</td>\n",
       "      <td>4</td>\n",
       "      <td>2</td>\n",
       "      <td>1185.0</td>\n",
       "      <td>2</td>\n",
       "      <td>2</td>\n",
       "      <td>2</td>\n",
       "    </tr>\n",
       "    <tr>\n",
       "      <th>333</th>\n",
       "      <td>5</td>\n",
       "      <td>1</td>\n",
       "      <td>2</td>\n",
       "      <td>1166.0</td>\n",
       "      <td>2</td>\n",
       "      <td>2</td>\n",
       "      <td>2</td>\n",
       "    </tr>\n",
       "    <tr>\n",
       "      <th>837</th>\n",
       "      <td>6</td>\n",
       "      <td>0</td>\n",
       "      <td>7</td>\n",
       "      <td>1200.0</td>\n",
       "      <td>7</td>\n",
       "      <td>2</td>\n",
       "      <td>3</td>\n",
       "    </tr>\n",
       "    <tr>\n",
       "      <th>474</th>\n",
       "      <td>4</td>\n",
       "      <td>4</td>\n",
       "      <td>2</td>\n",
       "      <td>1246.0</td>\n",
       "      <td>2</td>\n",
       "      <td>2</td>\n",
       "      <td>1</td>\n",
       "    </tr>\n",
       "  </tbody>\n",
       "</table>\n",
       "<p>400 rows × 7 columns</p>\n",
       "</div>"
      ],
      "text/plain": [
       "     BuildingType  Location  Size  AreaSqFt  NoOfBath  NoOfPeople  NoOfBalcony\n",
       "993             9         6     3    4000.0         3           6            1\n",
       "859             4         8     4    1200.0         4           3            3\n",
       "298             5         2     2    1150.0         2           2            3\n",
       "553             4         0     3    1400.0         3           2            0\n",
       "672             1         3     4    1200.0         3           2            1\n",
       "..            ...       ...   ...       ...       ...         ...          ...\n",
       "81              5         0     2     861.0         2           1            1\n",
       "159             5         4     2    1185.0         2           2            2\n",
       "333             5         1     2    1166.0         2           2            2\n",
       "837             6         0     7    1200.0         7           2            3\n",
       "474             4         4     2    1246.0         2           2            1\n",
       "\n",
       "[400 rows x 7 columns]"
      ]
     },
     "execution_count": 21,
     "metadata": {},
     "output_type": "execute_result"
    }
   ],
   "source": [
    "X_test"
   ]
  },
  {
   "cell_type": "markdown",
   "id": "d364048a",
   "metadata": {},
   "source": [
    "## Questions"
   ]
  },
  {
   "cell_type": "markdown",
   "id": "35de50a0",
   "metadata": {},
   "source": [
    "### 1. What are your observations on the Dataset? "
   ]
  },
  {
   "cell_type": "markdown",
   "id": "76ef6f37",
   "metadata": {},
   "source": [
    "Description of the feilds of the dataset\n",
    "The data has the information about the Houses in Lavasa with the features of each House and also its Rent depending on the features.<br>\n",
    "\n",
    "1. Building Type:<br>\n",
    "    Semi Furnished Single Room <br>\n",
    "    Semi Furnished Flat <br>\n",
    "    Fully Furnished Single Room<br>\n",
    "    Minimum Budget Rooms<br>\n",
    "    Semi Furnished Villa<br>\n",
    "    Fully Furnished Flat <br>\n",
    "    Super Furnished Single Room <br>\n",
    "    Super Furnished Villa<br>\n",
    "    Fully Furnished Villa<br>\n",
    "    Super Furnished Flat\n",
    "\n",
    "<br>  \n",
    "2. Location:<br>\n",
    "    Portofino <br>\n",
    "    Clubview Road <br>\n",
    "    School Street<br>\n",
    "    Starter Homes <br>\n",
    "<br>\n",
    "3. Size:<br>\n",
    "    2 BHK <br>\n",
    "    3 BHK<br>\n",
    "    4 BHK<br>\n",
    "    1 BHK<br>\n",
    "    5 BHK<br>\n",
    "    6 BHK<br>\n",
    "    8 BHK<br>    \n",
    "    7 BHK<br>     \n",
    "    9 BHK<br>     \n",
    "    1 RK<br>\n",
    "<br>\n",
    "4. AreaSqFt: Area of the house (SqFt units).\n",
    "\n",
    "5. NoOfBath: Number of bathrooms in the house.\n",
    "<br>\n",
    "\n",
    "6. NoOfPeople: Number of People that would stay in the house.\n",
    "<br>\n",
    "\n",
    "7. NoOfBalcony: Number of balconies in the house.\n",
    "<br>\n",
    "\n",
    "8. RentPerMonth: Rent of the house per month.\n",
    "<br>"
   ]
  },
  {
   "cell_type": "markdown",
   "id": "4f9da17a",
   "metadata": {},
   "source": [
    "### 2. What are the different Error Measures (Evaluation Metrics) in relation to Linear Regression? How much do you get in the above cases?"
   ]
  },
  {
   "cell_type": "code",
   "execution_count": 22,
   "id": "9ceadc26",
   "metadata": {},
   "outputs": [
    {
     "data": {
      "text/plain": [
       "993    27699.290335\n",
       "859    -1531.181660\n",
       "298    -3499.100647\n",
       "553    -2240.410900\n",
       "672     1681.895217\n",
       "           ...     \n",
       "81      1479.090367\n",
       "159    -4001.414900\n",
       "333    -3048.056747\n",
       "837    -4621.656825\n",
       "474     -935.182916\n",
       "Name: RentPerMonth, Length: 400, dtype: float64"
      ]
     },
     "execution_count": 22,
     "metadata": {},
     "output_type": "execute_result"
    }
   ],
   "source": [
    "#Residual Error or Forecast Error\n",
    "\n",
    "residual_error = y_test-y_pred\n",
    "residual_error"
   ]
  },
  {
   "cell_type": "code",
   "execution_count": 23,
   "id": "96ec14f7",
   "metadata": {},
   "outputs": [
    {
     "data": {
      "text/plain": [
       "362.6021289117355"
      ]
     },
     "execution_count": 23,
     "metadata": {},
     "output_type": "execute_result"
    }
   ],
   "source": [
    "# Mean Residual Error\n",
    "from statistics import mean \n",
    "\n",
    "mean_residual_error=mean(residual_error)\n",
    "mean_residual_error"
   ]
  },
  {
   "cell_type": "code",
   "execution_count": 24,
   "id": "5d0eb29f",
   "metadata": {},
   "outputs": [
    {
     "data": {
      "text/plain": [
       "3998.019320848698"
      ]
     },
     "execution_count": 24,
     "metadata": {},
     "output_type": "execute_result"
    }
   ],
   "source": [
    "# Mean Absolute Error\n",
    "from sklearn.metrics import mean_absolute_error\n",
    "\n",
    "mean_absolute_error = mean( abs(residual_error))\n",
    "mean_absolute_error"
   ]
  },
  {
   "cell_type": "code",
   "execution_count": 25,
   "id": "082a8209",
   "metadata": {},
   "outputs": [
    {
     "data": {
      "text/plain": [
       "44751511.03094385"
      ]
     },
     "execution_count": 25,
     "metadata": {},
     "output_type": "execute_result"
    }
   ],
   "source": [
    "# Mean Squared Error\n",
    "from sklearn.metrics import mean_squared_error\n",
    "\n",
    "mse=mean_squared_error(y_test,y_pred)\n",
    "mse"
   ]
  },
  {
   "cell_type": "code",
   "execution_count": 26,
   "id": "a2cff8fd",
   "metadata": {},
   "outputs": [
    {
     "data": {
      "text/plain": [
       "6689.657018931826"
      ]
     },
     "execution_count": 26,
     "metadata": {},
     "output_type": "execute_result"
    }
   ],
   "source": [
    "# Root Mean Squared Error\n",
    "\n",
    "from math import sqrt\n",
    "\n",
    "root_mean_square=sqrt(mse)\n",
    "root_mean_square"
   ]
  },
  {
   "cell_type": "markdown",
   "id": "43cf6181",
   "metadata": {},
   "source": [
    "### 3. Note down the errors/losses when the train-test ratio is 50:50, 60:40, 70:30, and 80:20"
   ]
  },
  {
   "cell_type": "code",
   "execution_count": 27,
   "id": "c219148f",
   "metadata": {},
   "outputs": [
    {
     "name": "stdout",
     "output_type": "stream",
     "text": [
      "\n",
      "Mean Square Error of  50 : 50  is:  40186685.791767366\n",
      "Root Mean Square Error of  50 : 50  is:  6339.296947751175\n",
      "Mean Absolute Error of  50 : 50  is:  3860.404397984834\n",
      "\n",
      "Mean Square Error of  60 : 40  is:  44751511.03094385\n",
      "Root Mean Square Error of  60 : 40  is:  6689.657018931826\n",
      "Mean Absolute Error of  60 : 40  is:  3998.0193208486976\n",
      "\n",
      "Mean Square Error of  70 : 30  is:  55958259.933157556\n",
      "Root Mean Square Error of  70 : 30  is:  7480.525378150759\n",
      "Mean Absolute Error of  70 : 30  is:  4239.919647596396\n",
      "\n",
      "Mean Square Error of  80 : 20  is:  51319663.02993778\n",
      "Root Mean Square Error of  80 : 20  is:  7163.774356436541\n",
      "Mean Absolute Error of  80 : 20  is:  4261.778516976778\n"
     ]
    }
   ],
   "source": [
    "import numpy as np\n",
    "from math import sqrt\n",
    "from sklearn.metrics import mean_squared_error\n",
    "from sklearn.metrics import mean_absolute_error\n",
    "\n",
    "for i in range(len(split_ratio)):\n",
    "    X_train,X_test,y_train,y_test=split_data[i]\n",
    "    mse=mean_squared_error(y_test,y_list[i])\n",
    "    rmse=sqrt(mse)\n",
    "    mae=mean_absolute_error(y_test,y_list[i])\n",
    "    print(\"\\nMean Square Error of \",split_ratio[i],\" is: \",mse)\n",
    "    print(\"Root Mean Square Error of \",split_ratio[i],\" is: \",rmse)\n",
    "    print(\"Mean Absolute Error of \",split_ratio[i],\" is: \",mae)"
   ]
  },
  {
   "cell_type": "markdown",
   "id": "d5483476",
   "metadata": {},
   "source": [
    "### 4. During LinearRegression() process, what is the impact of giving TRUE/FALSE as the value for Normalize Parameter?"
   ]
  },
  {
   "cell_type": "code",
   "execution_count": 28,
   "id": "ec53b050",
   "metadata": {},
   "outputs": [
    {
     "name": "stdout",
     "output_type": "stream",
     "text": [
      "\n",
      "R_score of  50 : 50  when normalize is TRUE is:  0.6991443910605245\n",
      "R_score of  50 : 50  when normalize is FALSE is:  0.6991443910605251\n",
      "\n",
      "R_score of  60 : 40  when normalize is TRUE is:  0.7001911289467468\n",
      "R_score of  60 : 40  when normalize is FALSE is:  0.7001911289467464\n",
      "\n",
      "R_score of  70 : 30  when normalize is TRUE is:  0.6877878340648071\n",
      "R_score of  70 : 30  when normalize is FALSE is:  0.687787834064807\n",
      "\n",
      "R_score of  80 : 20  when normalize is TRUE is:  0.6975571503047422\n",
      "R_score of  80 : 20  when normalize is FALSE is:  0.697557150304742\n"
     ]
    }
   ],
   "source": [
    "for i in range(len(split_ratio)):\n",
    "    model=LinearRegression(normalize=True).fit(split_data[i][0],split_data[i][2])\n",
    "    y_pred=model.predict(split_data[i][1])\n",
    "    r_score=r2_score(split_data[i][3],y_pred)\n",
    "    print(\"\\nR_score of \",split_ratio[i],\" when normalize is TRUE is: \",r_score)\n",
    "    \n",
    "    model=LinearRegression(normalize=False).fit(split_data[i][0],split_data[i][2])\n",
    "    y_pred=model.predict(split_data[i][1])\n",
    "    r_score=r2_score(split_data[i][3],y_pred)\n",
    "    print(\"R_score of \",split_ratio[i],\" when normalize is FALSE is: \",r_score)"
   ]
  },
  {
   "cell_type": "markdown",
   "id": "9ea17c3d",
   "metadata": {},
   "source": [
    "From the above code, we could observe that normalize=TRUE and normalize=FALSE gives the same score. For our dataset, it doesn't signify any difference in the accuracy of the model."
   ]
  },
  {
   "cell_type": "markdown",
   "id": "1c91dd99",
   "metadata": {},
   "source": [
    "### Cases"
   ]
  },
  {
   "cell_type": "code",
   "execution_count": 29,
   "id": "d85446b1",
   "metadata": {},
   "outputs": [
    {
     "name": "stdout",
     "output_type": "stream",
     "text": [
      "These are the features for predicting the Rent: \n",
      "1. BuildingType\n",
      "2. Location\n",
      "3. Size\n",
      "4. AreaSqFt\n",
      "5. NoOfBath\n",
      "6. NoOfPeople\n",
      "7. NoOfBalcony\n",
      "Do you want building feature for predicting rent(Y for Yes and N for No): Y\n",
      "\n",
      "BuildingType: \n",
      "1. 'Fully Furnished Flat' ,\n",
      "2. 'Fully Furnished Single Room',\n",
      "3. 'Fully Furnished Villa',\n",
      "4. 'Minimum Budget Rooms',\n",
      "5. 'Semi Furnished Flat',\n",
      "6. 'Semi Furnished Single Room',\n",
      "7. 'Semi Furnished Villa',\n",
      "8. 'Super Furnished Flat',\n",
      "9. 'Super Furnished Single Room',\n",
      "10. 'Super Furnished Villa'\n",
      "Building Type of the House(Type the Number): 1\n",
      "\n",
      "Do you want location feature for predicting rent(Y for Yes and N for No): Y\n",
      "\n",
      "Location: \n",
      "1. 'Clubview Road', \n",
      "2. 'Portofino D',\n",
      "3. 'Portofino C',\n",
      "4. 'Portofino A',\n",
      "5. 'Portofino H',\n",
      "6. 'Portofino E',\n",
      "7. 'Portofino G',\n",
      "8. 'Portofino F',\n",
      "9. 'School Street',\n",
      "10. 'Starter Homes'\n",
      "Location of the House(Type the Number): 10\n",
      "\n",
      "Do you want size feature for predicting rent(Y for Yes and N for No): N\n",
      "\n",
      "Do you want AreaSqFt feature for predicting rent(Y for Yes and N for No): N\n",
      "\n",
      "Do you want NoOfBath feature for predicting rent(Y for Yes and N for No): Y\n",
      "No. Of Bathroom of the Room: 2\n",
      "\n",
      "Do you want NoOfPeople feature for predicting rent(Y for Yes and N for No): Y\n",
      "No of People in the Room: 3\n",
      "\n",
      "Do you want NoOfBalcony feature for predicting rent(Y for Yes and N for No): N\n",
      "\n",
      "The approximate Rent of the Room with all the specified requirements by the user will be 12512.444304915496\n",
      "\n",
      "Do you want to Continue(1 for Yes and 0 for Exit): 0\n",
      "Thank you for using our program\n"
     ]
    }
   ],
   "source": [
    "from statistics import mode\n",
    "\n",
    "input_test=[]\n",
    "while (True):\n",
    "    print(\"These are the features for predicting the Rent: \")\n",
    "    print(\"1. BuildingType\\n2. Location\\n3. Size\\n4. AreaSqFt\\n5. NoOfBath\\n6. NoOfPeople\\n7. NoOfBalcony\")\n",
    "    a=input(\"Do you want building feature for predicting rent(Y for Yes and N for No): \")\n",
    "    if a==\"Y\" or a==\"y\":\n",
    "        print(\"\\nBuildingType: \\n1. 'Fully Furnished Flat' ,\\n2. 'Fully Furnished Single Room',\\n3. 'Fully Furnished Villa',\\n4. 'Minimum Budget Rooms',\\n5. 'Semi Furnished Flat',\\n6. 'Semi Furnished Single Room',\\n7. 'Semi Furnished Villa',\\n8. 'Super Furnished Flat',\\n9. 'Super Furnished Single Room',\\n10. 'Super Furnished Villa'\")\n",
    "        building=int(input(\"Building Type of the House(Type the Number): \"))\n",
    "    else:\n",
    "        building=mode(df[\"BuildingType\"])\n",
    "    \n",
    "    a=input(\"\\nDo you want location feature for predicting rent(Y for Yes and N for No): \")\n",
    "    if a==\"Y\" or a==\"y\":\n",
    "        print(\"\\nLocation: \\n1. 'Clubview Road', \\n2. 'Portofino D',\\n3. 'Portofino C',\\n4. 'Portofino A',\\n5. 'Portofino H',\\n6. 'Portofino E',\\n7. 'Portofino G',\\n8. 'Portofino F',\\n9. 'School Street',\\n10. 'Starter Homes'\")\n",
    "        location=int(input(\"Location of the House(Type the Number): \"))\n",
    "    else:\n",
    "        location=mode(df[\"Location\"])\n",
    "    \n",
    "    a=input(\"\\nDo you want size feature for predicting rent(Y for Yes and N for No): \")\n",
    "    if a==\"Y\" or a==\"y\":\n",
    "        print(\"\\nSize: \\n1. '1 BHK', \\n2. '1 RK', \\n3. '2 BHK',\\n4. '3 BHK', \\n5. '4 BHK', \\n6. '5 BHK', \\n7. '6 BHK', \\n8. '8 BHK', \\n9. '7 BHK', \\n10. '9 BHK'\")\n",
    "        size=int(input(\"Size of the Room: \"))\n",
    "    else:\n",
    "        size=mode(df[\"Size\"])\n",
    "        \n",
    "    a=input(\"\\nDo you want AreaSqFt feature for predicting rent(Y for Yes and N for No): \")\n",
    "    if a==\"Y\" or a==\"y\":\n",
    "        area=int(input(\"Areasqft of the Room: \"))\n",
    "    else:\n",
    "        area=mean(df[\"AreaSqFt\"])\n",
    "        \n",
    "    a=input(\"\\nDo you want NoOfBath feature for predicting rent(Y for Yes and N for No): \")\n",
    "    if a==\"Y\" or a==\"y\":\n",
    "        bathroom=int(input(\"No. Of Bathroom of the Room: \"))\n",
    "    else:\n",
    "        bathroom=mean(df[\"NoOfBath\"])\n",
    "                  \n",
    "    a=input(\"\\nDo you want NoOfPeople feature for predicting rent(Y for Yes and N for No): \")\n",
    "    if a==\"Y\" or a==\"y\":\n",
    "        people=int(input(\"No of People in the Room: \"))\n",
    "    else:\n",
    "        people=mean(df[\"NoOfPeople\"])\n",
    "    \n",
    "    a=input(\"\\nDo you want NoOfBalcony feature for predicting rent(Y for Yes and N for No): \")\n",
    "    if a==\"Y\" or a==\"y\":\n",
    "        balcony=int(input(\"No of Balcony the Room: \"))\n",
    "    else:\n",
    "        balcony=mean(df[\"NoOfBalcony\"])\n",
    "    \n",
    "    input_test.append([building, location, size, area, bathroom, people, balcony])\n",
    "    input_testdf=pd.DataFrame(input_test, columns = [\"BuildingType\",\"Location\",\"Size\",\n",
    "                                                   \"AreaSqFt\",\"NoOfBath\",\"NoOfPeople\",\"NoOfBalcony\"] )\n",
    "    y_prediction =model.predict(input_testdf)\n",
    "    #y_prediction\n",
    "    print(\"\\nThe approximate Rent of the Room with all the specified requirements by the user will be\",y_prediction[0] )\n",
    "                  \n",
    "    user=int(input(\"\\nDo you want to Continue(1 for Yes and 0 for Exit): \"))\n",
    "    if user==0:\n",
    "        print(\"Thank you for using our program\")\n",
    "        break"
   ]
  },
  {
   "cell_type": "markdown",
   "id": "9c682766",
   "metadata": {},
   "source": [
    "### Conclusion:\n",
    "\n",
    "Linear Regression is an fundamental supervised Machine Learning algorithm and is important to start of ML with this algorithm.<br>\n",
    "The things I learned from this lab are:\n",
    "1. Spotting outliers using data visualization.\n",
    "2. Effect on the dataset after removing outliers.\n",
    "3. Implementing real-life data in Machine Learning using Regression.\n",
    "4. Comparing different Models and Finding the optimium one using the split Ratio of training and testing data.\n",
    "5. Learning the meaning of different Evaluation Metrics,  Regression Score, Intercept and other parameters in Linear Regression.\n",
    "6. Interpreting the meaning insights of the data set and the model used using different parameters."
   ]
  },
  {
   "cell_type": "markdown",
   "id": "77c8d82b",
   "metadata": {},
   "source": [
    "## References:\n",
    "\n",
    "1. https://www.analyticsvidhya.com/blog/2021/04/20-must-known-pandas-function-for-exploratory-data-analysis-eda/\n",
    "2. https://seaborn.pydata.org/tutorial/distributions.html\n",
    "3. https://realpython.com/linear-regression-in-python/\n",
    "4. https://machinelearningmastery.com/time-series-forecasting-performance-measures-with-python/\n",
    "5. https://www.kaggle.com/general/23263"
   ]
  }
 ],
 "metadata": {
  "kernelspec": {
   "display_name": "Python 3 (ipykernel)",
   "language": "python",
   "name": "python3"
  },
  "language_info": {
   "codemirror_mode": {
    "name": "ipython",
    "version": 3
   },
   "file_extension": ".py",
   "mimetype": "text/x-python",
   "name": "python",
   "nbconvert_exporter": "python",
   "pygments_lexer": "ipython3",
   "version": "3.9.7"
  }
 },
 "nbformat": 4,
 "nbformat_minor": 5
}
